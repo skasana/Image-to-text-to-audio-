{
  "nbformat": 4,
  "nbformat_minor": 0,
  "metadata": {
    "colab": {
      "provenance": [],
      "include_colab_link": true
    },
    "kernelspec": {
      "name": "python3",
      "display_name": "Python 3"
    },
    "language_info": {
      "name": "python"
    }
  },
  "cells": [
    {
      "cell_type": "markdown",
      "metadata": {
        "id": "view-in-github",
        "colab_type": "text"
      },
      "source": [
        "<a href=\"https://colab.research.google.com/github/skasana/Image-to-text-to-audio-/blob/main/Image_to_text_to_audio.ipynb\" target=\"_parent\"><img src=\"https://colab.research.google.com/assets/colab-badge.svg\" alt=\"Open In Colab\"/></a>"
      ]
    },
    {
      "cell_type": "code",
      "source": [
        "!sudo apt install tesseract-ocr\n",
        "!pip install pytesseract\n",
        "!pip install gTTS\n",
        "!pip install Pillow==9.0.0"
      ],
      "metadata": {
        "colab": {
          "base_uri": "https://localhost:8080/"
        },
        "id": "s2eYBmwDWDAJ",
        "outputId": "ee12e20a-5e71-4c17-ce36-b7f8e2d2767a"
      },
      "execution_count": 5,
      "outputs": [
        {
          "output_type": "stream",
          "name": "stdout",
          "text": [
            "Reading package lists... Done\n",
            "Building dependency tree... Done\n",
            "Reading state information... Done\n",
            "tesseract-ocr is already the newest version (4.1.1-2.1build1).\n",
            "0 upgraded, 0 newly installed, 0 to remove and 45 not upgraded.\n",
            "Requirement already satisfied: pytesseract in /usr/local/lib/python3.10/dist-packages (0.3.10)\n",
            "Requirement already satisfied: packaging>=21.3 in /usr/local/lib/python3.10/dist-packages (from pytesseract) (24.1)\n",
            "Requirement already satisfied: Pillow>=8.0.0 in /usr/local/lib/python3.10/dist-packages (from pytesseract) (9.0.0)\n",
            "Requirement already satisfied: gTTS in /usr/local/lib/python3.10/dist-packages (2.5.1)\n",
            "Requirement already satisfied: requests<3,>=2.27 in /usr/local/lib/python3.10/dist-packages (from gTTS) (2.31.0)\n",
            "Requirement already satisfied: click<8.2,>=7.1 in /usr/local/lib/python3.10/dist-packages (from gTTS) (8.1.7)\n",
            "Requirement already satisfied: charset-normalizer<4,>=2 in /usr/local/lib/python3.10/dist-packages (from requests<3,>=2.27->gTTS) (3.3.2)\n",
            "Requirement already satisfied: idna<4,>=2.5 in /usr/local/lib/python3.10/dist-packages (from requests<3,>=2.27->gTTS) (3.7)\n",
            "Requirement already satisfied: urllib3<3,>=1.21.1 in /usr/local/lib/python3.10/dist-packages (from requests<3,>=2.27->gTTS) (2.0.7)\n",
            "Requirement already satisfied: certifi>=2017.4.17 in /usr/local/lib/python3.10/dist-packages (from requests<3,>=2.27->gTTS) (2024.6.2)\n",
            "Requirement already satisfied: Pillow==9.0.0 in /usr/local/lib/python3.10/dist-packages (9.0.0)\n"
          ]
        }
      ]
    },
    {
      "cell_type": "code",
      "execution_count": 6,
      "metadata": {
        "id": "DwgN11GcUIvf"
      },
      "outputs": [],
      "source": [
        "import pytesseract\n",
        "from PIL import Image\n",
        "import gtts"
      ]
    },
    {
      "cell_type": "code",
      "source": [
        "img = Image.open('/content/Screenshot 2024-06-17 100125.png')\n",
        "print(img)"
      ],
      "metadata": {
        "colab": {
          "base_uri": "https://localhost:8080/"
        },
        "id": "UCVJlIoWUaO0",
        "outputId": "51db60c4-6cc1-4134-a9d3-8662e7c1c635"
      },
      "execution_count": 7,
      "outputs": [
        {
          "output_type": "stream",
          "name": "stdout",
          "text": [
            "<PIL.PngImagePlugin.PngImageFile image mode=RGBA size=1102x547 at 0x7D7E324C3370>\n"
          ]
        }
      ]
    },
    {
      "cell_type": "code",
      "source": [
        "result = pytesseract.image_to_string(img)\n",
        "print(result)\n",
        "tts = gtts.gTTS(result)\n",
        "tts.save(\"hello.mp3\")"
      ],
      "metadata": {
        "colab": {
          "base_uri": "https://localhost:8080/"
        },
        "id": "YlcdrEN5Uw6-",
        "outputId": "d8f862e8-1ef1-4d28-a510-57e70664fad3"
      },
      "execution_count": 8,
      "outputs": [
        {
          "output_type": "stream",
          "name": "stdout",
          "text": [
            "Soil physicochemical properties explain land use/cover histories in the last\n",
            "\n",
            "sixty years in China\n",
            "\n",
            "Hao Chen*”»”, Mehdi Rahmati”’‘, Carsten Montzka”, Huiran Gao“, Harry Vereecken”\n",
            "\n",
            "* School of Geographic and Environmental Sciences, Tianjin Normal University, 300387 Tianjin, China\n",
            "institute of Bio- and Geosciences: Agrosphere (IBG-3), Forschungszentrum Jillich GmbH, 52425 Jilich, Germany\n",
            "© Department of Soil Science and Engineering, University of Maragheh, 83111-55181 Maragheh, Iran\n",
            "\n",
            "4 National Institute of Natural Hazards, Ministry of Emergency Management of China, 100085 Beijing, China\n",
            "\n",
            " \n",
            "\n",
            "ARTICLE INFO\n",
            "\n",
            "ABSTRACT\n",
            "\n",
            " \n",
            "\n",
            "Handling Editor: B. Minasny\n",
            "\n",
            "Keywords:\n",
            "Soil physical and chemical properties\n",
            "Land use and land cover\n",
            "\n",
            "China\n",
            "\n",
            "Explainable machine learning\n",
            "\n",
            "Enhancing our comprehension of soil processes and their impact on Earth requires precise quantification of\n",
            "human-induced soil alterations, particularly those related to land use/cover (LUC) histories. Thoroughly vali-\n",
            "dated LUC and soil maps specific to China, and an explainable machine-learning approach were applied to reveal\n",
            "how soil physicochemical properties, independently or in combination, explain LUG histories in the last sixty\n",
            "years. Validation using historical data showed that the proposed machine-learning models can adequately\n",
            "simulate the pattern of LUC histories. Nonlinear mappings of various soil properties in explaining LUC histories\n",
            "were demonstrated and critical thresholds for changes in the explanatory capacities of each soil property to\n",
            "specific LUC histories were identified. Specifically, physical soil properties, except for soil pH, particularly soil\n",
            "thickness, clay content, bulk density, and coarse fragments, play significant roles in explaining the historical\n",
            "trajectories of forests, croplands, and pasture/rangelands than chemical soil properties. Predicted LUC changes\n",
            "suggest more intensive dynamics that are characterized by expansions in forest and pasture/rangeland areas,\n",
            "coupled with a reduction in cropland areas. Overall, improving understanding of the bidirectional links between\n",
            "soil and LUC changes is a crucial and imperative step towards refining the representation of soils in Earth system\n",
            "models.\n",
            "\n",
            "  \n",
            "\f\n"
          ]
        }
      ]
    }
  ]
}